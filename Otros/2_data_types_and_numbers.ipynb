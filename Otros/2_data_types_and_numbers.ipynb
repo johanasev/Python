{
  "nbformat": 4,
  "nbformat_minor": 0,
  "metadata": {
    "colab": {
      "provenance": []
    },
    "kernelspec": {
      "name": "python3",
      "display_name": "Python 3"
    },
    "language_info": {
      "name": "python"
    }
  },
  "cells": [
    {
      "cell_type": "markdown",
      "source": [
        "Python has the following data types built-in by default, in these categories:\n",
        "\n",
        "<table>\n",
        "<tr>\n",
        "<td>Text Type: </td>\n",
        "<td> str </td>\n",
        "</tr>\n",
        "<tr>\n",
        "<td>Numeric Types:</td>\n",
        "<td>int, float, complex </td></tr>\n",
        "<tr><td>Sequence Types:</td>\t<td>list, tuple, range </td></tr>\n",
        "<tr><td>Mapping Type:\t</td><td>dict </td></tr>\n",
        "<tr><td>Set Types:\t</td><td>set, frozenset </td></tr>\n",
        "<tr><td>Boolean Type:\t</td><td>bool </td></tr>\n",
        "<tr><td>Binary Types:\t</td><td>bytes, bytearray, memoryview </td></tr>\n",
        "<tr><td>None Type:\t</td><td>NoneType </td></tr>\n",
        "</table>"
      ],
      "metadata": {
        "id": "zbtlceQKhfSU"
      }
    },
    {
      "cell_type": "code",
      "execution_count": null,
      "metadata": {
        "colab": {
          "base_uri": "https://localhost:8080/"
        },
        "id": "NSmONtMedLNy",
        "outputId": "94180772-f281-46dd-9a04-57950f032aa1"
      },
      "outputs": [
        {
          "output_type": "stream",
          "name": "stdout",
          "text": [
            "<class 'str'>\n",
            "<class 'int'>\n",
            "<class 'float'>\n",
            "<class 'complex'>\n",
            "<class 'list'>\n",
            "<class 'tuple'>\n",
            "<class 'range'>\n",
            "<class 'dict'>\n",
            "<class 'set'>\n",
            "<class 'frozenset'>\n",
            "<class 'bool'>\n",
            "<class 'bytes'>\n",
            "<class 'bytearray'>\n",
            "<class 'memoryview'>\n",
            "<class 'NoneType'>\n"
          ]
        }
      ],
      "source": [
        "a = \"Hello World\"\n",
        "b = 20\n",
        "c = 20.5\n",
        "d = 1j\n",
        "e = [\"apple\", \"banana\", \"cherry\"]\n",
        "f = (\"apple\", \"banana\", \"cherry\")\n",
        "g = range(6)\n",
        "h = {\"name\" : \"John\", \"age\" : 36}\n",
        "i = {\"apple\", \"banana\", \"cherry\"}\n",
        "j = frozenset({\"apple\", \"banana\", \"cherry\"})\n",
        "k = True\n",
        "l = b\"Hello\"\n",
        "m = bytearray(5)\n",
        "n = memoryview(bytes(5))\n",
        "o = None\n",
        "\n",
        "print(type(a))\n",
        "print(type(b))\n",
        "print(type(c))\n",
        "print(type(d))\n",
        "print(type(e))\n",
        "print(type(f))\n",
        "print(type(g))\n",
        "print(type(h))\n",
        "print(type(i))\n",
        "print(type(j))\n",
        "print(type(k))\n",
        "print(type(l))\n",
        "print(type(m))\n",
        "print(type(n))\n",
        "print(type(o))"
      ]
    },
    {
      "cell_type": "markdown",
      "source": [
        "If we want to specify the data type, you can use the following constructor functions:"
      ],
      "metadata": {
        "id": "_-oavp3Wsupr"
      }
    },
    {
      "cell_type": "code",
      "source": [
        "x = float(20.5)\n",
        "print(x, type(x))"
      ],
      "metadata": {
        "colab": {
          "base_uri": "https://localhost:8080/"
        },
        "id": "xUGDZkRTswiL",
        "outputId": "acff4e8c-64a2-40cb-d70b-1da3ad4b2bca"
      },
      "execution_count": null,
      "outputs": [
        {
          "output_type": "stream",
          "name": "stdout",
          "text": [
            "20.5 <class 'float'>\n"
          ]
        }
      ]
    },
    {
      "cell_type": "markdown",
      "source": [
        "There are three numeric types in Python\n",
        "\n",
        "*   int\n",
        "*   float\n",
        "*   complex\n",
        "\n",
        "\n",
        "\n"
      ],
      "metadata": {
        "id": "Rs17qxOoTR_d"
      }
    },
    {
      "cell_type": "code",
      "source": [
        "x = 1\n",
        "y = 2.8\n",
        "z = 1j\n",
        "print(type(x))\n",
        "print(type(y))\n",
        "print(type(z))\n",
        "\n",
        "#we can convert from one type to another\n",
        "\n",
        "a = float(x)\n",
        "b = int(y)\n",
        "c = complex(x)\n",
        "print(\"Now x is:\", a, type(a))\n",
        "print(\"Now y is:\", b, type(b))\n",
        "print(\"Now x is:\", c, type(c))"
      ],
      "metadata": {
        "colab": {
          "base_uri": "https://localhost:8080/"
        },
        "id": "qtom6MoYTgHg",
        "outputId": "54c97fe8-511c-4cc2-8686-2888cd00a147"
      },
      "execution_count": 4,
      "outputs": [
        {
          "output_type": "stream",
          "name": "stdout",
          "text": [
            "<class 'int'>\n",
            "<class 'float'>\n",
            "<class 'complex'>\n",
            "Now x is: 1.0 <class 'float'>\n",
            "Now y is: 2 <class 'int'>\n",
            "Now x is: (1+0j) <class 'complex'>\n"
          ]
        }
      ]
    },
    {
      "cell_type": "markdown",
      "source": [
        "Print a random number between 1 and 9"
      ],
      "metadata": {
        "id": "KgsCXLrPU-aE"
      }
    },
    {
      "cell_type": "code",
      "source": [
        "import random\n",
        "\n",
        "print(random.randrange(1,9))"
      ],
      "metadata": {
        "colab": {
          "base_uri": "https://localhost:8080/"
        },
        "id": "zW_KyPMxVFkL",
        "outputId": "6921f87d-9624-4ecb-ff0a-c36f941327b9"
      },
      "execution_count": 8,
      "outputs": [
        {
          "output_type": "stream",
          "name": "stdout",
          "text": [
            "6\n"
          ]
        }
      ]
    },
    {
      "cell_type": "markdown",
      "source": [
        "Casting:\n",
        "Python is an object-orientated language, and as such it uses classes to define data types, including its primitive types."
      ],
      "metadata": {
        "id": "ndUk5uLVWXXe"
      }
    },
    {
      "cell_type": "code",
      "source": [
        "x = int(1)   # x will be 1\n",
        "y = int(2.8) # y will be 2\n",
        "z = int(\"3\") # z will be 3\n",
        "print(x,y,z)\n"
      ],
      "metadata": {
        "colab": {
          "base_uri": "https://localhost:8080/"
        },
        "id": "nayL6MdfWacL",
        "outputId": "369f1f92-373c-4039-f5fd-5d881522b990"
      },
      "execution_count": 9,
      "outputs": [
        {
          "output_type": "stream",
          "name": "stdout",
          "text": [
            "1 2 3\n"
          ]
        }
      ]
    },
    {
      "cell_type": "code",
      "source": [
        "x = float(1)     # x will be 1.0\n",
        "y = float(2.8)   # y will be 2.8\n",
        "z = float(\"3\")   # z will be 3.0\n",
        "w = float(\"4.2\") # w will be 4.2\n",
        "print(x,y,z,w)"
      ],
      "metadata": {
        "colab": {
          "base_uri": "https://localhost:8080/"
        },
        "id": "Sivq0kJMWvJB",
        "outputId": "31cb8ba2-93a8-4343-b03e-1975eef6b867"
      },
      "execution_count": 10,
      "outputs": [
        {
          "output_type": "stream",
          "name": "stdout",
          "text": [
            "1.0 2.8 3.0 4.2\n"
          ]
        }
      ]
    },
    {
      "cell_type": "code",
      "source": [
        "x = str(\"s1\") # x will be 's1'\n",
        "y = str(2)    # y will be '2'\n",
        "z = str(3.0)  # z will be '3.0'\n",
        "print(x,y,z)"
      ],
      "metadata": {
        "colab": {
          "base_uri": "https://localhost:8080/"
        },
        "id": "mRpe3s_oW4sB",
        "outputId": "1f687f43-c357-47d1-c66b-2be1c0aab9bd"
      },
      "execution_count": 11,
      "outputs": [
        {
          "output_type": "stream",
          "name": "stdout",
          "text": [
            "s1 2 3.0\n"
          ]
        }
      ]
    }
  ]
}