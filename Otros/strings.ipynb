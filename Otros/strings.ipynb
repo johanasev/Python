{
  "nbformat": 4,
  "nbformat_minor": 0,
  "metadata": {
    "colab": {
      "provenance": [],
      "authorship_tag": "ABX9TyPN2/DBJkIlnZWzXxlSmd36",
      "include_colab_link": true
    },
    "kernelspec": {
      "name": "python3",
      "display_name": "Python 3"
    },
    "language_info": {
      "name": "python"
    }
  },
  "cells": [
    {
      "cell_type": "markdown",
      "metadata": {
        "id": "view-in-github",
        "colab_type": "text"
      },
      "source": [
        "<a href=\"https://colab.research.google.com/github/johanasev/Python/blob/main/strings.ipynb\" target=\"_parent\"><img src=\"https://colab.research.google.com/assets/colab-badge.svg\" alt=\"Open In Colab\"/></a>"
      ]
    },
    {
      "cell_type": "markdown",
      "source": [
        "**Strings**\n",
        "\n",
        "\n",
        "We use sigle quotation marks, or double quotation marks like 'joha' is the same \"joha\""
      ],
      "metadata": {
        "id": "jJMU5oyI38Xs"
      }
    },
    {
      "cell_type": "code",
      "execution_count": 2,
      "metadata": {
        "colab": {
          "base_uri": "https://localhost:8080/"
        },
        "id": "BvIssB6q3qB5",
        "outputId": "ca4b8c67-3724-4330-9631-1270ff31bdff"
      },
      "outputs": [
        {
          "output_type": "stream",
          "name": "stdout",
          "text": [
            "Hello\n",
            "Lorem ipsum dolor sit amet,\n",
            "consectetur adipiscing elit,\n",
            "sed do eiusmod tempor incididunt\n",
            "ut labore et dolore magna aliqua.\n"
          ]
        }
      ],
      "source": [
        "# Assign string to a variable\n",
        "a = \"Hello\"\n",
        "b = \"\"\"Lorem ipsum dolor sit amet,\n",
        "consectetur adipiscing elit,\n",
        "sed do eiusmod tempor incididunt\n",
        "ut labore et dolore magna aliqua.\"\"\"\n",
        "print(a)\n",
        "print(b)"
      ]
    },
    {
      "cell_type": "code",
      "source": [
        "#String are Arrays\n",
        "a = \"Hey, you\"\n",
        "print(a[1])"
      ],
      "metadata": {
        "colab": {
          "base_uri": "https://localhost:8080/"
        },
        "id": "-hq31Yt64ZmY",
        "outputId": "9ef3427d-d926-408c-ff8d-1bdc589e117b"
      },
      "execution_count": 3,
      "outputs": [
        {
          "output_type": "stream",
          "name": "stdout",
          "text": [
            "e\n"
          ]
        }
      ]
    },
    {
      "cell_type": "code",
      "source": [
        "#Looping through a string\n",
        "for x in \"orange\":\n",
        "  print(x)"
      ],
      "metadata": {
        "colab": {
          "base_uri": "https://localhost:8080/"
        },
        "id": "1fTSM2A45A7Q",
        "outputId": "999dc67c-1c0b-42c1-e68e-a3e76460cc9c"
      },
      "execution_count": 6,
      "outputs": [
        {
          "output_type": "stream",
          "name": "stdout",
          "text": [
            "o\n",
            "r\n",
            "a\n",
            "n\n",
            "g\n",
            "e\n"
          ]
        }
      ]
    },
    {
      "cell_type": "code",
      "source": [
        "#String length\n",
        "a = \"This is an orange\"\n",
        "print(\"The length of the chain is:\",len(a))"
      ],
      "metadata": {
        "colab": {
          "base_uri": "https://localhost:8080/"
        },
        "id": "VEbLd_WO53tz",
        "outputId": "2209dee5-03f4-43f8-f5cb-c775f34c7efd"
      },
      "execution_count": 18,
      "outputs": [
        {
          "output_type": "stream",
          "name": "stdout",
          "text": [
            "The length of the chain is: 17\n"
          ]
        }
      ]
    },
    {
      "cell_type": "code",
      "source": [
        "#We use de kayword in to check if a phrase or character is present in a string\n",
        "txt = \"The best things in life are free!\"\n",
        "print(\"free\" in txt)"
      ],
      "metadata": {
        "colab": {
          "base_uri": "https://localhost:8080/"
        },
        "id": "oAefNMr96Yz6",
        "outputId": "e06af02d-584d-4e83-f56d-336a3279b07a"
      },
      "execution_count": 10,
      "outputs": [
        {
          "output_type": "stream",
          "name": "stdout",
          "text": [
            "True\n"
          ]
        }
      ]
    },
    {
      "cell_type": "code",
      "source": [
        "#We can use in with if\n",
        "txt = \"The best things in life are free!\"\n",
        "if \"free\" in txt:\n",
        "  print(\"Yes, 'free' is present.\")"
      ],
      "metadata": {
        "colab": {
          "base_uri": "https://localhost:8080/"
        },
        "id": "jhnOOeAU6zmi",
        "outputId": "1a7bb20e-a017-41cc-9041-4a9ed32911a5"
      },
      "execution_count": 11,
      "outputs": [
        {
          "output_type": "stream",
          "name": "stdout",
          "text": [
            "Yes, 'free' is present.\n"
          ]
        }
      ]
    },
    {
      "cell_type": "code",
      "source": [
        "#A version with input chart\n",
        "txt = input(\"Enter the main phrase\")\n",
        "look = input(\"Enter the phrase or character to search for in the main field\")\n",
        "if look in txt:\n",
        "  print(\"Yes, \", look, \"is present.\")\n",
        "else:\n",
        "  print(\"No, \", look, \"is not present.\")"
      ],
      "metadata": {
        "colab": {
          "base_uri": "https://localhost:8080/"
        },
        "id": "v0Qdc9Z-7K-L",
        "outputId": "1919216d-cf67-48fd-ef67-f20341cecf0b"
      },
      "execution_count": 19,
      "outputs": [
        {
          "output_type": "stream",
          "name": "stdout",
          "text": [
            "Enter the main phrasesol naciente\n",
            "Enter the phrase or character to search for in the main fieldluna\n",
            "No,  luna is not present.\n"
          ]
        }
      ]
    },
    {
      "cell_type": "code",
      "source": [
        "#Check if not\n",
        "txt = \"The best things in life are free!\"\n",
        "print(\"expensive\" not in txt)\n",
        "\n",
        "#A version with if\n",
        "if \"expensive\" not in txt:\n",
        "  print(\"No, 'expensive' is NOT present.\")"
      ],
      "metadata": {
        "colab": {
          "base_uri": "https://localhost:8080/"
        },
        "id": "VGeVB2Qj8bOJ",
        "outputId": "ed8de0a2-1830-4de3-cb8e-542941f47361"
      },
      "execution_count": 17,
      "outputs": [
        {
          "output_type": "stream",
          "name": "stdout",
          "text": [
            "True\n",
            "No, 'expensive' is NOT present.\n"
          ]
        }
      ]
    },
    {
      "cell_type": "markdown",
      "source": [
        "**Slicing Strings**"
      ],
      "metadata": {
        "id": "xuUAm1He9txI"
      }
    },
    {
      "cell_type": "code",
      "source": [
        "#We can return a range of characters by using the slice syntax\n",
        "b = \"Hello, World!\"\n",
        "print(b[2:5])  #use the start and end position\n",
        "print(b[:7])   #get the character for the start position\n",
        "print(b[2:])   #get the characters from position 2, and all the way to the end\n",
        "\n",
        "#Negative indexing\n",
        "print(b[-5:-2]) #From: \"o\" in \"World!\" (position -5) to, but not included: \"d\" in \"World!\" (position -2):"
      ],
      "metadata": {
        "colab": {
          "base_uri": "https://localhost:8080/"
        },
        "id": "ptXztlZl9x_B",
        "outputId": "724289ab-57b1-4074-c138-7f733f786276"
      },
      "execution_count": 27,
      "outputs": [
        {
          "output_type": "stream",
          "name": "stdout",
          "text": [
            "llo\n",
            "Hello, \n",
            "llo, World!\n",
            "orl\n"
          ]
        }
      ]
    },
    {
      "cell_type": "markdown",
      "source": [
        "**Modify Strings**"
      ],
      "metadata": {
        "id": "nYkTNGyr_2e4"
      }
    },
    {
      "cell_type": "code",
      "source": [
        "#Upper case\n",
        "a = \"Mayusc\"\n",
        "print(a.upper())"
      ],
      "metadata": {
        "colab": {
          "base_uri": "https://localhost:8080/"
        },
        "id": "UBszb1Vl_7eQ",
        "outputId": "facc1335-883e-4762-a217-5d5b1908a8ba"
      },
      "execution_count": 1,
      "outputs": [
        {
          "output_type": "stream",
          "name": "stdout",
          "text": [
            "MAYUSC\n"
          ]
        }
      ]
    },
    {
      "cell_type": "code",
      "source": [
        "#Lower case\n",
        "a = \"Minusc\"\n",
        "print(a.lower())"
      ],
      "metadata": {
        "colab": {
          "base_uri": "https://localhost:8080/"
        },
        "id": "cc7zrEx5YKLw",
        "outputId": "37a09762-44fb-437d-a8c3-a909beb1ab42"
      },
      "execution_count": 2,
      "outputs": [
        {
          "output_type": "stream",
          "name": "stdout",
          "text": [
            "minusc\n"
          ]
        }
      ]
    },
    {
      "cell_type": "code",
      "source": [
        "#Remove white spaces from begnning and end\n",
        "a = \" Hello, World! \"\n",
        "print(a.strip())"
      ],
      "metadata": {
        "colab": {
          "base_uri": "https://localhost:8080/"
        },
        "id": "NHHXld7wYUYW",
        "outputId": "5b4c466a-63ed-4bf9-812b-0db8dedb514e"
      },
      "execution_count": 4,
      "outputs": [
        {
          "output_type": "stream",
          "name": "stdout",
          "text": [
            "Hello,  World!\n"
          ]
        }
      ]
    },
    {
      "cell_type": "code",
      "source": [
        "#Replace string with another string\n",
        "a = \"Hello, World!\"\n",
        "print(a.replace(\"H\", \"J\"))"
      ],
      "metadata": {
        "colab": {
          "base_uri": "https://localhost:8080/"
        },
        "id": "0S5cBWuXYlkS",
        "outputId": "b35d5ded-66b9-46d2-ffbd-7bd4b43dddf1"
      },
      "execution_count": 5,
      "outputs": [
        {
          "output_type": "stream",
          "name": "stdout",
          "text": [
            "Jello, World!\n"
          ]
        }
      ]
    },
    {
      "cell_type": "code",
      "source": [
        "#Split string into substrings if it finds the separator\n",
        "a = \"orange, banana, avocado\"\n",
        "print(a.split(\",\"))"
      ],
      "metadata": {
        "colab": {
          "base_uri": "https://localhost:8080/"
        },
        "id": "iTIWlA7fY2OG",
        "outputId": "2f310cba-b740-46ca-cfd9-9d5483c327d8"
      },
      "execution_count": 7,
      "outputs": [
        {
          "output_type": "stream",
          "name": "stdout",
          "text": [
            "['orange', ' banana', ' avocado']\n"
          ]
        }
      ]
    },
    {
      "cell_type": "markdown",
      "source": [
        "**Concatenation**"
      ],
      "metadata": {
        "id": "-PXkB1GHZijs"
      }
    },
    {
      "cell_type": "code",
      "source": [
        "#Asign string to a variable\n",
        "a = \"Hello\"\n",
        "b = \"World\"\n",
        "c = a + b\n",
        "print(c)"
      ],
      "metadata": {
        "colab": {
          "base_uri": "https://localhost:8080/"
        },
        "id": "zi15inziZmJl",
        "outputId": "34011869-9555-4c4e-b33a-8394023caba8"
      },
      "execution_count": 8,
      "outputs": [
        {
          "output_type": "stream",
          "name": "stdout",
          "text": [
            "HelloWorld\n"
          ]
        }
      ]
    },
    {
      "cell_type": "code",
      "source": [
        "#Add an space between strings\n",
        "a = \"Hello\"\n",
        "b = \"World\"\n",
        "c = a + \" \" + b\n",
        "print(c)"
      ],
      "metadata": {
        "colab": {
          "base_uri": "https://localhost:8080/"
        },
        "id": "s7QEYiSGZ1T-",
        "outputId": "aace209d-8325-4123-a079-8e5ae54028ef"
      },
      "execution_count": 9,
      "outputs": [
        {
          "output_type": "stream",
          "name": "stdout",
          "text": [
            "Hello World\n"
          ]
        }
      ]
    },
    {
      "cell_type": "markdown",
      "source": [
        "**Format**"
      ],
      "metadata": {
        "id": "DcvJP_jXZ-yX"
      }
    },
    {
      "cell_type": "code",
      "source": [
        "#Error example\n",
        "age = 36\n",
        "txt = \"My name is John, I am \" + age\n",
        "print(txt)"
      ],
      "metadata": {
        "id": "Qp6RsAvMaAaO"
      },
      "execution_count": null,
      "outputs": []
    },
    {
      "cell_type": "code",
      "source": [
        "#Format method to insert numbers into strings\n",
        "age = 36\n",
        "txt = \"My name is John, and I am {}\"\n",
        "print(txt.format(age))"
      ],
      "metadata": {
        "colab": {
          "base_uri": "https://localhost:8080/"
        },
        "id": "Xy8U4ySsaj7t",
        "outputId": "e76a7f07-3c7d-438c-c08b-e8e4746238c6"
      },
      "execution_count": 13,
      "outputs": [
        {
          "output_type": "stream",
          "name": "stdout",
          "text": [
            "My name is John, and I am 36\n"
          ]
        }
      ]
    },
    {
      "cell_type": "code",
      "source": [
        "#The format() method takes unlimited number of arguments\n",
        "quantity = 3\n",
        "itemno = 567\n",
        "price = 49.95\n",
        "myorder = \"I want {} pieces of item {} for {} dollars.\"\n",
        "print(myorder.format(quantity, itemno, price))"
      ],
      "metadata": {
        "colab": {
          "base_uri": "https://localhost:8080/"
        },
        "id": "_7cVOI5Ba64y",
        "outputId": "fa07dd3f-5ba7-4aed-88de-bb04308e0b4b"
      },
      "execution_count": 14,
      "outputs": [
        {
          "output_type": "stream",
          "name": "stdout",
          "text": [
            "I want 3 pieces of item 567 for 49.95 dollars.\n"
          ]
        }
      ]
    },
    {
      "cell_type": "code",
      "source": [
        "#We can use index numbers {0} to be sure the arguments are placed in the correct placeholders\n",
        "quantity = 3\n",
        "itemno = 567\n",
        "price = 49.95\n",
        "myorder = \"I want to pay {2} dollars {0} pieces of item {1}.\"\n",
        "print(myorder.format(quantity,itemno,price))"
      ],
      "metadata": {
        "colab": {
          "base_uri": "https://localhost:8080/"
        },
        "id": "WXHSDQOAbJzu",
        "outputId": "a0049fed-a455-4e87-fa06-71b097352770"
      },
      "execution_count": 15,
      "outputs": [
        {
          "output_type": "stream",
          "name": "stdout",
          "text": [
            "I want to pay 49.95 dollars 3 pieces of item 567.\n"
          ]
        }
      ]
    },
    {
      "cell_type": "markdown",
      "source": [
        "**Escape Character**"
      ],
      "metadata": {
        "id": "rAsCZtd7bv-a"
      }
    },
    {
      "cell_type": "markdown",
      "source": [
        "Other escape characters used in Python"
      ],
      "metadata": {
        "id": "yI2A8LW3gRDY"
      }
    },
    {
      "cell_type": "code",
      "source": [
        "#The escape character allows you to use double quotes when you normally would not be allowed: \\\"\n",
        "txt = \"We are the so-called \\\"Vikings\\\" from the north.\""
      ],
      "metadata": {
        "id": "ce0uimHibz7c"
      },
      "execution_count": 19,
      "outputs": []
    },
    {
      "cell_type": "code",
      "source": [
        "# Table created with pandas lybrary\n",
        "\n",
        "import pandas as pd\n",
        "\n",
        "df = pd.DataFrame()\n",
        "\n",
        "Codes = [\"\\'\", '\\\\\\\\', '\\\\n', '\\\\r', '\\\\t', '\\\\b', '\\\\f', '\\\\ooo', '\\\\xhh']\n",
        "Results = ['Single Quote', 'Backslash', 'New Line', 'Carriage Return', 'Tab', 'Backspace', 'Form Feed', 'Octal value', 'Hex value']\n",
        "\n",
        "df['Code'] = Codes\n",
        "df['Result'] = Results\n",
        "\n",
        "print(df)"
      ],
      "metadata": {
        "colab": {
          "base_uri": "https://localhost:8080/"
        },
        "id": "UoocK_w6c137",
        "outputId": "5bf0f016-3944-45aa-984e-b796327123a5"
      },
      "execution_count": 34,
      "outputs": [
        {
          "output_type": "stream",
          "name": "stdout",
          "text": [
            "   Code           Result\n",
            "0     '     Single Quote\n",
            "1    \\\\        Backslash\n",
            "2    \\n         New Line\n",
            "3    \\r  Carriage Return\n",
            "4    \\t              Tab\n",
            "5    \\b        Backspace\n",
            "6    \\f        Form Feed\n",
            "7  \\ooo      Octal value\n",
            "8  \\xhh        Hex value\n"
          ]
        }
      ]
    },
    {
      "cell_type": "markdown",
      "source": [
        "**String Methods**"
      ],
      "metadata": {
        "id": "Ce19ajDuhYp5"
      }
    },
    {
      "cell_type": "markdown",
      "source": [
        "<table class=\"ws-table-all notranslate\">\n",
        "<tbody><tr>\n",
        "<th>Method</th>\n",
        "<th>Description</th>\n",
        "</tr>\n",
        "  <tr>\n",
        "    <td>capitalize()</a></td><td>Converts the first\n",
        "    character to upper case</td>\n",
        "  </tr>\n",
        "  <tr>\n",
        "    <td>casefold()</a></td><td>Converts string into\n",
        "    lower case</td>\n",
        "  </tr>\n",
        "  <tr>\n",
        "    <td>center()</a></td><td>Returns a centered\n",
        "    string</td>\n",
        "  </tr>\n",
        "  <tr>\n",
        "    <td>count()</a></td><td>Returns the number of\n",
        "    times a specified value occurs in a string</td>\n",
        "  </tr>\n",
        "  <tr>\n",
        "    <td>encode()</a></td><td>Returns an encoded\n",
        "    version of the string</td>\n",
        "  </tr>\n",
        "  <tr>\n",
        "    <td>endswith()</a></td><td>Returns true if the\n",
        "    string ends with the specified value</td>\n",
        "  </tr>\n",
        "  <tr>\n",
        "    <td>expandtabs()</a></td><td>Sets the\n",
        "    tab size of the string</td>\n",
        "  </tr>\n",
        "  <tr>\n",
        "    <td>find()</a></td><td>Searches the string for a\n",
        "    specified value and returns the position of where it was found</td>\n",
        "  </tr>\n",
        "  <tr>\n",
        "    <td>format()</a></td><td>Formats specified\n",
        "    values in a string</td>\n",
        "  </tr>\n",
        "  <tr>\n",
        "    <td>format_map()</td><td>Formats specified\n",
        "    values in a string</td>\n",
        "  </tr>\n",
        "  <tr>\n",
        "    <td>index()</a></td><td>Searches the string\n",
        "    for a specified value and returns the position of where it was found</td>\n",
        "  </tr>\n",
        "  <tr>\n",
        "    <td>isalnum()</a></td><td>Returns True if all\n",
        "    characters in the string are alphanumeric</td>\n",
        "  </tr>\n",
        "  <tr>\n",
        "    <td>isalpha()</a></td><td>Returns True if all\n",
        "    characters in the string are in the alphabet</td>\n",
        "  </tr>\n",
        "  <tr>\n",
        "    <td>isascii()</a></td><td>Returns True if all\n",
        "    characters in the string are ascii characters</td>\n",
        "  </tr>\n",
        "  <tr>\n",
        "    <td>isdecimal()</a></td><td>Returns True if all\n",
        "    characters in the string are decimals</td>\n",
        "  </tr>\n",
        "  <tr>\n",
        "    <td>isdigit()</a></td><td>Returns True if all\n",
        "    characters in the string are digits</td>\n",
        "  </tr>\n",
        "  <tr>\n",
        "    <td>isidentifier()</a></td><td>Returns True if\n",
        "    the string is an identifier</td>\n",
        "  </tr>\n",
        "  <tr>\n",
        "    <td>islower()</a></td><td>Returns True if all\n",
        "    characters in the string are lower case</td>\n",
        "  </tr>\n",
        "  <tr>\n",
        "    <td>isnumeric()</a></td><td>Returns True if\n",
        "    all characters in the string are numeric</td>\n",
        "  </tr>\n",
        "  <tr>\n",
        "    <td>isprintable()</a></td><td>Returns True if\n",
        "    all characters in the string are printable</td>\n",
        "  </tr>\n",
        "  <tr>\n",
        "    <td>isspace()</a></td><td>Returns True if all\n",
        "    characters in the string are whitespaces</td>\n",
        "  </tr>\n",
        "  <tr>\n",
        "    <td>istitle()</a></td>\n",
        "    <td>Returns True if the string follows the rules of a\n",
        "    title</td>\n",
        "  </tr>\n",
        "  <tr>\n",
        "    <td>isupper()</a></td><td>Returns True if all\n",
        "    characters in the string are upper case</td>\n",
        "  </tr>\n",
        "  <tr>\n",
        "    <td>join()</a></td><td>Joins the elements of\n",
        "    an iterable to the end of the string</td>\n",
        "  </tr>\n",
        "  <tr>\n",
        "    <td>ljust()</a></td><td>Returns a left justified\n",
        "    version of the string</td>\n",
        "  </tr>\n",
        "  <tr>\n",
        "    <td>lower()</a></td><td>Converts a string into\n",
        "    lower case</td>\n",
        "  </tr>\n",
        "  <tr>\n",
        "    <td>lstrip()</a></td><td>Returns a left trim\n",
        "    version of the string</td>\n",
        "  </tr>\n",
        "  <tr>\n",
        "    <td>maketrans()</a></td><td>Returns a\n",
        "    translation table to be used in translations</td>\n",
        "  </tr>\n",
        "  <tr>\n",
        "    <td>partition()</a></td><td>Returns a tuple\n",
        "    where the string is parted into three parts</td>\n",
        "  </tr>\n",
        "  <tr>\n",
        "    <td>replace()</a></td><td>Returns a string\n",
        "    where a specified value is replaced with a specified value</td>\n",
        "  </tr>\n",
        "  <tr>\n",
        "    <td>rfind()</a></td><td>Searches the string for\n",
        "    a specified value and returns the last position of where it was found</td>\n",
        "  </tr>\n",
        "  <tr>\n",
        "    <td>rindex()</a></td><td>Searches the string for\n",
        "    a specified value and returns the last position of where it was found</td>\n",
        "  </tr>\n",
        "  <tr>\n",
        "    <td>rjust()</a></td><td>Returns a right justified\n",
        "    version of the string</td>\n",
        "  </tr>\n",
        "  <tr>\n",
        "    <td>rpartition()</a></td><td>Returns a tuple\n",
        "    where the string is parted into three parts</td>\n",
        "  </tr>\n",
        "  <tr>\n",
        "    <td>rsplit()</a></td><td>Splits the string at\n",
        "    the specified separator, and returns a list</td>\n",
        "  </tr>\n",
        "  <tr>\n",
        "    <td>rstrip()</a></td><td>Returns a right trim\n",
        "    version of the string</td>\n",
        "  </tr>\n",
        "  <tr>\n",
        "    <td>split()</a></td><td>Splits the string at\n",
        "    the specified separator, and returns a list</td>\n",
        "  </tr>\n",
        "  <tr>\n",
        "    <td>splitlines()</a></td><td>Splits the string\n",
        "    at line breaks and returns a list</td>\n",
        "  </tr>\n",
        "  <tr>\n",
        "    <td>startswith()</a></td><td>Returns true if\n",
        "    the string starts with the specified value</td>\n",
        "  </tr>\n",
        "  <tr>\n",
        "    <td>strip()</a></td><td>Returns a trimmed version of the string</td>\n",
        "  </tr>\n",
        "  <tr>\n",
        "    <td>swapcase()</a></td><td>Swaps cases, lower\n",
        "    case becomes upper case and vice versa</td>\n",
        "  </tr>\n",
        "  <tr>\n",
        "    <td>title()</a></td><td>Converts the first\n",
        "    character of each word to upper case</td>\n",
        "  </tr>\n",
        "  <tr>\n",
        "    <td>translate()</a></td><td>Returns a\n",
        "    translated string</td>\n",
        "  </tr>\n",
        "  <tr>\n",
        "    <td>upper()</a></td><td>Converts a string\n",
        "    into upper case</td>\n",
        "  </tr>\n",
        "<tr><td>zfill()</a></td><td>Fills the string with\n",
        "  a specified number of 0 values at the beginning</td></tr>\n",
        "</tbody></table>\n",
        "\n",
        "```\n",
        "# This is formatted as code\n",
        "```\n",
        "\n"
      ],
      "metadata": {
        "id": "FjhXvBmKhPCr"
      }
    },
    {
      "cell_type": "code",
      "source": [
        "txt = \"I love apples, apple are my favorite fruit\"\n",
        "\n",
        "x = txt.count(\"apple\")\n",
        "\n",
        "print(x)\n",
        "print(txt.encode())\n",
        "print(txt.capitalize())\n",
        "print(txt.casefold())\n",
        "print(txt.center(1))\n",
        "print(txt.endswith('s'))\n",
        "print(txt.find(\"love\"))\n",
        "print(txt.index(\"o\"))\n",
        "print(txt.isalnum())\n",
        "print(txt.isalpha())\n",
        "print(txt.isascii())\n",
        "print(txt.isdecimal())\n",
        "print(txt.isdigit())\n",
        "print(txt.isidentifier())\n",
        "print(txt.islower())\n",
        "print(txt.isnumeric())\n",
        "print(txt.isprintable())\n",
        "print(txt.isspace())\n",
        "print(txt.istitle())\n",
        "print(txt.isupper())\n",
        "\n",
        "\n",
        "\n",
        "txt1 = \"H\\te\\tl\\tl\\to\"\n",
        "\n",
        "print(txt1)\n",
        "print(txt1.expandtabs())\n",
        "print(txt1.expandtabs(2))\n",
        "print(txt1.expandtabs(4))\n",
        "print(txt1.expandtabs(10))"
      ],
      "metadata": {
        "colab": {
          "base_uri": "https://localhost:8080/"
        },
        "id": "ENfPqwJ6hOZp",
        "outputId": "d221527c-5d35-4c16-e77a-bd78cb60cb7b"
      },
      "execution_count": 13,
      "outputs": [
        {
          "output_type": "stream",
          "name": "stdout",
          "text": [
            "2\n",
            "b'I love apples, apple are my favorite fruit'\n",
            "I love apples, apple are my favorite fruit\n",
            "i love apples, apple are my favorite fruit\n",
            "I love apples, apple are my favorite fruit\n",
            "False\n",
            "2\n",
            "3\n",
            "False\n",
            "False\n",
            "True\n",
            "False\n",
            "False\n",
            "False\n",
            "False\n",
            "False\n",
            "True\n",
            "False\n",
            "False\n",
            "False\n",
            "H\te\tl\tl\to\n",
            "H       e       l       l       o\n",
            "H e l l o\n",
            "H   e   l   l   o\n",
            "H         e         l         l         o\n"
          ]
        }
      ]
    }
  ]
}